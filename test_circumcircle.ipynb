{
 "cells": [
  {
   "cell_type": "code",
   "execution_count": 1,
   "metadata": {},
   "outputs": [],
   "source": [
    "import numpy as np\n",
    "import matplotlib.pyplot as plt"
   ]
  },
  {
   "cell_type": "code",
   "execution_count": 2,
   "metadata": {},
   "outputs": [],
   "source": [
    "def in_circumcircle(x, y, v0, v1, v2):\n",
    "\n",
    "    sign_triangle = (v1[0] - v0[0]) * (v2[1] - v0[1]) - (v2[0] - v0[0]) * (v1[1] - v0[1])\n",
    "    sign_triangle = sign_triangle/abs(sign_triangle)\n",
    "    # sign_triangle = 1.0\n",
    "\n",
    "    a0 = (v0[0] - x)\n",
    "    a1 = (v0[1] - y)\n",
    "    a2 = (a0*a0 + a1*a1)\n",
    "    b0 = (v1[0] - x)\n",
    "    b1 = (v1[1] - y)\n",
    "    b2 = (b0*b0 + b1*b1)\n",
    "    c0 = (v2[0] - x)\n",
    "    c1 = (v2[1] - y)\n",
    "    c2 = (c0*c0 + c1*c1)\n",
    "    det_p = (a0 * b1 * c2) + (b0 * c1 * a2) + (a1 * b2 * c0)\n",
    "    det_m = (c0 * b1 * a2) + (b0 * a1 * c2) + (c1 * b2 * a0)\n",
    "    det = det_p - det_m\n",
    "\n",
    "    return det * sign_triangle > 0"
   ]
  },
  {
   "cell_type": "code",
   "execution_count": 25,
   "metadata": {},
   "outputs": [],
   "source": [
    "extent = (-3, 3, -3, 3)\n",
    "sample_num = 5000\n",
    "randompoints = 6.0 * np.random.rand(sample_num,2) - 3.0\n",
    "thetalist = 2.0 * np.pi * np.random.rand(3)\n",
    "triangle_vertices = np.array([[np.cos(theta)+1, np.sin(theta)-1] for theta in thetalist])"
   ]
  },
  {
   "cell_type": "code",
   "execution_count": 26,
   "metadata": {},
   "outputs": [
    {
     "data": {
      "image/png": "[encoded data removed]",
      "text/plain": [
       "<Figure size 432x288 with 1 Axes>"
      ]
     },
     "metadata": {
      "needs_background": "light"
     },
     "output_type": "display_data"
    }
   ],
   "source": [
    "fig, ax = plt.subplots()\n",
    "ax.set_aspect(\"equal\")\n",
    "\n",
    "ax.set_xlim(-3, 3)\n",
    "ax.set_ylim(-3, 3)\n",
    "\n",
    "for x,y in randompoints:\n",
    "    if in_circumcircle(x, y, triangle_vertices[0], triangle_vertices[1], triangle_vertices[2]):\n",
    "        ax.plot(x, y, \".\", color = 'red')\n",
    "    # else:\n",
    "        # ax.plot(x, y, \".\", color = \"black\")\n"
   ]
  }
 ],
 "metadata": {
  "interpreter": {
   "hash": "793a82fedeba23981ce55e3a75b671d01035bd6c8b10afa4b6f2c8006b36261b"
  },
  "kernelspec": {
   "display_name": "Python 3.8.2 64-bit ('3.8.2': pyenv)",
   "name": "python3"
  },
  "language_info": {
   "codemirror_mode": {
    "name": "ipython",
    "version": 3
   },
   "file_extension": ".py",
   "mimetype": "text/x-python",
   "name": "python",
   "nbconvert_exporter": "python",
   "pygments_lexer": "ipython3",
   "version": "3.8.2"
  },
  "orig_nbformat": 4
 },
 "nbformat": 4,
 "nbformat_minor": 2
}
