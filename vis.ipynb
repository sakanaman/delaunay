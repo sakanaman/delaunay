{
 "cells": [
  {
   "cell_type": "code",
   "execution_count": null,
   "metadata": {},
   "outputs": [],
   "source": [
    "import numpy as np\n",
    "import matplotlib.pyplot as plt"
   ]
  },
  {
   "cell_type": "code",
   "execution_count": null,
   "metadata": {},
   "outputs": [],
   "source": [
    "f = open(\"output.txt\", \"r\")\n",
    "data = f.readlines()\n",
    "f.close()"
   ]
  },
  {
   "cell_type": "code",
   "execution_count": null,
   "metadata": {},
   "outputs": [],
   "source": [
    "row = 0\n",
    "num_vertices = 0\n",
    "num_edges = 0\n",
    "vertices = []\n",
    "edges = []\n",
    "end_of_file = len(data)\n",
    "\n",
    "while True:\n",
    "    colums = data[row].split(\" \")\n",
    "    title = colums[0].rstrip()\n",
    "    \n",
    "    if title == \"[data:vertices]\":\n",
    "        colums = data[row+1].split(\" \")\n",
    "        num_vertices = int(colums[1].rsplit()[0])\n",
    "        print(\"num_vertices = {}\".format(num_vertices))\n",
    "\n",
    "        for i in range(num_vertices):\n",
    "            colums = data[row+2 + i].split(\" \")\n",
    "            x = float(colums[0].rsplit()[0])\n",
    "            y = float(colums[1].rsplit()[0])\n",
    "            vertices.append([x, y])\n",
    "\n",
    "        row = row + num_vertices + 2\n",
    "    elif title == \"[data:edges]\":\n",
    "        colums = data[row+1].split(\" \")\n",
    "        num_edges = int(colums[1].rsplit()[0])\n",
    "        print(\"num_edges = {}\".format(num_edges))\n",
    "\n",
    "        for i in range(num_edges):\n",
    "            colums = data[row+2 + i].split(\" \")\n",
    "            i0 = int(colums[0].rsplit()[0])\n",
    "            i1 = int(colums[1].rsplit()[0])\n",
    "            edges.append([i0, i1])\n",
    "        \n",
    "        row = row + num_edges + 2\n",
    "\n",
    "    if row == end_of_file:\n",
    "        break"
   ]
  },
  {
   "cell_type": "code",
   "execution_count": null,
   "metadata": {},
   "outputs": [],
   "source": [
    "edges = np.array(edges)\n",
    "vertices = np.array(vertices)"
   ]
  },
  {
   "cell_type": "code",
   "execution_count": null,
   "metadata": {},
   "outputs": [],
   "source": [
    "fig, ax = plt.subplots(figsize = (10.0, 10.0))\n",
    "ax.set_aspect(\"equal\")\n",
    "for i0,i1 in edges:\n",
    "    ax.plot([vertices[i0][0], vertices[i1][0]], [vertices[i0][1], vertices[i1][1]], color = \"green\")\n",
    "\n",
    "plt.show()"
   ]
  }
 ],
 "metadata": {
  "interpreter": {
   "hash": "793a82fedeba23981ce55e3a75b671d01035bd6c8b10afa4b6f2c8006b36261b"
  },
  "kernelspec": {
   "display_name": "Python 3.8.2 64-bit ('3.8.2': pyenv)",
   "language": "python",
   "name": "python3"
  },
  "language_info": {
   "codemirror_mode": {
    "name": "ipython",
    "version": 3
   },
   "file_extension": ".py",
   "mimetype": "text/x-python",
   "name": "python",
   "nbconvert_exporter": "python",
   "pygments_lexer": "ipython3",
   "version": "3.8.2"
  },
  "orig_nbformat": 4
 },
 "nbformat": 4,
 "nbformat_minor": 2
}
